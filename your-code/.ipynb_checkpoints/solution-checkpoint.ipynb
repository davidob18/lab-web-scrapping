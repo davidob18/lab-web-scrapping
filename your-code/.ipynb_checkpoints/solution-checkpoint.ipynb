{
 "cells": [
  {
   "cell_type": "code",
   "execution_count": 112,
   "id": "b213cca6-2db8-4181-8d66-c8a1f706bce9",
   "metadata": {},
   "outputs": [],
   "source": [
    "import requests\n",
    "from bs4 import BeautifulSoup\n",
    "import pandas as pd\n",
    "# from pprint import pprint\n",
    "from lxml import html\n",
    "from lxml.html import fromstring\n",
    "# import urllib.request\n",
    "# from urllib.request import urlopen\n",
    "# import random\n",
    "# import re\n",
    "# import scrapy"
   ]
  },
  {
   "cell_type": "code",
   "execution_count": 2,
   "id": "9f1667b6-dc89-4cb8-b1d4-db25aff9af11",
   "metadata": {},
   "outputs": [],
   "source": [
    "url = 'https://github.com/trending/developers'"
   ]
  },
  {
   "cell_type": "raw",
   "id": "46da9e28-c1e8-44cc-989a-070e98770a95",
   "metadata": {},
   "source": [
    "Display the names of the trending developers retrieved in the previous step.\n",
    "Your output should be a Python list of developer names. Each name should not contain any html tag.\n",
    "\n",
    "Instructions:\n",
    "\n",
    "Find out the html tag and class names used for the developer names. You can achieve this using Chrome DevTools.\n",
    "\n",
    "Use BeautifulSoup to extract all the html elements that contain the developer names.\n",
    "\n",
    "Use string manipulation techniques to replace whitespaces and linebreaks (i.e. \\n) in the text of each html element. Use a list to store the clean names.\n",
    "\n",
    "Print the list of names.\n",
    "\n",
    "Your output should look like below:\n",
    "\n",
    "['trimstray (@trimstray)',\n",
    " 'joewalnes (JoeWalnes)',\n",
    " 'charlax (Charles-AxelDein)',\n",
    " 'ForrestKnight (ForrestKnight)',\n",
    " 'revery-ui (revery-ui)',\n",
    " 'alibaba (Alibaba)',\n",
    " 'Microsoft (Microsoft)',\n",
    " 'github (GitHub)',\n",
    " 'facebook (Facebook)',\n",
    " 'boazsegev (Bo)',\n",
    " 'google (Google)',\n",
    " 'cloudfetch',\n",
    " 'sindresorhus (SindreSorhus)',\n",
    " 'tensorflow',\n",
    " 'apache (TheApacheSoftwareFoundation)',\n",
    " 'DevonCrawford (DevonCrawford)',\n",
    " 'ARMmbed (ArmMbed)',\n",
    " 'vuejs (vuejs)',\n",
    " 'fastai (fast.ai)',\n",
    " 'QiShaoXuan (Qi)',\n",
    " 'joelparkerhenderson (JoelParkerHenderson)',\n",
    " 'torvalds (LinusTorvalds)',\n",
    " 'CyC2018',\n",
    " 'komeiji-satori (神楽坂覚々)',\n",
    " 'script-8']"
   ]
  },
  {
   "cell_type": "code",
   "execution_count": 3,
   "id": "6cced26f-90b8-4642-926f-533c209099e8",
   "metadata": {},
   "outputs": [],
   "source": [
    "response = requests.get(url)"
   ]
  },
  {
   "cell_type": "code",
   "execution_count": 4,
   "id": "e5c32abb-4e64-45ee-9389-6b932bb28661",
   "metadata": {},
   "outputs": [
    {
     "data": {
      "text/plain": [
       "<Response [200]>"
      ]
     },
     "execution_count": 4,
     "metadata": {},
     "output_type": "execute_result"
    }
   ],
   "source": [
    "response"
   ]
  },
  {
   "cell_type": "code",
   "execution_count": 5,
   "id": "3d2929e4-61a6-4a68-b206-bca431cd10a5",
   "metadata": {},
   "outputs": [],
   "source": [
    "sopa_git = BeautifulSoup(response.content)"
   ]
  },
  {
   "cell_type": "code",
   "execution_count": 9,
   "id": "f7fb34ab-f33f-4201-aafc-3d98da20a671",
   "metadata": {},
   "outputs": [
    {
     "name": "stdout",
     "output_type": "stream",
     "text": [
      "<class 'bs4.BeautifulSoup'>\n"
     ]
    }
   ],
   "source": [
    "print(type(sopa_git))"
   ]
  },
  {
   "cell_type": "code",
   "execution_count": 10,
   "id": "097b5948-de91-4982-89ed-36919d106c0e",
   "metadata": {},
   "outputs": [],
   "source": [
    "bloques = sopa_git.select('article.Box-row.d-flex')"
   ]
  },
  {
   "cell_type": "code",
   "execution_count": 11,
   "id": "f39a7b47-2caf-4ce0-8ff9-e1829c9ad780",
   "metadata": {},
   "outputs": [
    {
     "data": {
      "text/plain": [
       "25"
      ]
     },
     "execution_count": 11,
     "metadata": {},
     "output_type": "execute_result"
    }
   ],
   "source": [
    "len(bloques)"
   ]
  },
  {
   "cell_type": "code",
   "execution_count": 12,
   "id": "c2cb88d5-0700-4ae6-b737-a84ab257e8a8",
   "metadata": {},
   "outputs": [
    {
     "name": "stdout",
     "output_type": "stream",
     "text": [
      "<class 'bs4.element.ResultSet'>\n"
     ]
    }
   ],
   "source": [
    "print(type(bloques))"
   ]
  },
  {
   "cell_type": "code",
   "execution_count": 17,
   "id": "7624fc3d-b17a-46e9-955e-08199fb46232",
   "metadata": {},
   "outputs": [],
   "source": [
    "#bloques[0] #SE TRABAJA CON [0] DEBIDO A QUE ES UNA LISTA DE UN ELEMENTO Y SOLO QUEREMOS EL TEXTO"
   ]
  },
  {
   "cell_type": "code",
   "execution_count": 24,
   "id": "43e32455-16bf-4ae6-8661-f1419de758c0",
   "metadata": {},
   "outputs": [
    {
     "data": {
      "text/plain": [
       "[<div class=\"col-md-6\">\n",
       " <h1 class=\"h3 lh-condensed\">\n",
       " <a data-hydro-click='{\"event_type\":\"explore.click\",\"payload\":{\"click_context\":\"TRENDING_DEVELOPERS_PAGE\",\"click_target\":\"OWNER\",\"click_visual_representation\":\"TRENDING_DEVELOPER\",\"actor_id\":null,\"record_id\":1430078,\"originating_url\":\"https://github.com/trending/developers\",\"user_id\":null}}' data-hydro-click-hmac=\"63a73bc9df7b3df1504ffef4fc79f4ad126ef0bfeca097f4996c27285e0ba97d\" data-view-component=\"true\" href=\"/ajcvickers\">\n",
       "             Arthur Vickers\n",
       " </a> </h1>\n",
       " <p class=\"f4 text-normal mb-1\">\n",
       " <a class=\"Link--secondary\" data-hydro-click='{\"event_type\":\"explore.click\",\"payload\":{\"click_context\":\"TRENDING_DEVELOPERS_PAGE\",\"click_target\":\"OWNER\",\"click_visual_representation\":\"TRENDING_DEVELOPER\",\"actor_id\":null,\"record_id\":1430078,\"originating_url\":\"https://github.com/trending/developers\",\"user_id\":null}}' data-hydro-click-hmac=\"63a73bc9df7b3df1504ffef4fc79f4ad126ef0bfeca097f4996c27285e0ba97d\" data-view-component=\"true\" href=\"/ajcvickers\">\n",
       "               ajcvickers\n",
       " </a> </p>\n",
       " </div>]"
      ]
     },
     "execution_count": 24,
     "metadata": {},
     "output_type": "execute_result"
    }
   ],
   "source": [
    "bloques[0].select('div.col-md-6:first-of-type')[0] # EL PRIMER [0] ES PARA LA LISTA DEBLOQUES QUE TIENE 25 tablas , el segund [0] es por que es una lista de un elemento y si queremos leer debemos quitar "
   ]
  },
  {
   "cell_type": "code",
   "execution_count": 25,
   "id": "600fbba1-a811-4f73-b652-f4e188aa7957",
   "metadata": {},
   "outputs": [
    {
     "data": {
      "text/plain": [
       "25"
      ]
     },
     "execution_count": 25,
     "metadata": {},
     "output_type": "execute_result"
    }
   ],
   "source": [
    "len(bloques)"
   ]
  },
  {
   "cell_type": "code",
   "execution_count": 42,
   "id": "4889fdbe-cf1e-4b4d-aa0b-c3b34ea50b4f",
   "metadata": {},
   "outputs": [],
   "source": [
    "usuarios = [bloque.select('div.col-md-6:first-of-type')[0] for bloque in bloques ]"
   ]
  },
  {
   "cell_type": "code",
   "execution_count": 43,
   "id": "9a89f0e6-3f0e-4df7-8e72-12964b2c05aa",
   "metadata": {},
   "outputs": [
    {
     "data": {
      "text/plain": [
       "[<div class=\"col-md-6\">\n",
       " <h1 class=\"h3 lh-condensed\">\n",
       " <a data-hydro-click='{\"event_type\":\"explore.click\",\"payload\":{\"click_context\":\"TRENDING_DEVELOPERS_PAGE\",\"click_target\":\"OWNER\",\"click_visual_representation\":\"TRENDING_DEVELOPER\",\"actor_id\":null,\"record_id\":1430078,\"originating_url\":\"https://github.com/trending/developers\",\"user_id\":null}}' data-hydro-click-hmac=\"63a73bc9df7b3df1504ffef4fc79f4ad126ef0bfeca097f4996c27285e0ba97d\" data-view-component=\"true\" href=\"/ajcvickers\">\n",
       "             Arthur Vickers\n",
       " </a> </h1>\n",
       " <p class=\"f4 text-normal mb-1\">\n",
       " <a class=\"Link--secondary\" data-hydro-click='{\"event_type\":\"explore.click\",\"payload\":{\"click_context\":\"TRENDING_DEVELOPERS_PAGE\",\"click_target\":\"OWNER\",\"click_visual_representation\":\"TRENDING_DEVELOPER\",\"actor_id\":null,\"record_id\":1430078,\"originating_url\":\"https://github.com/trending/developers\",\"user_id\":null}}' data-hydro-click-hmac=\"63a73bc9df7b3df1504ffef4fc79f4ad126ef0bfeca097f4996c27285e0ba97d\" data-view-component=\"true\" href=\"/ajcvickers\">\n",
       "               ajcvickers\n",
       " </a> </p>\n",
       " </div>,\n",
       " <div class=\"col-md-6\">\n",
       " <h1 class=\"h3 lh-condensed\">\n",
       " <a data-hydro-click='{\"event_type\":\"explore.click\",\"payload\":{\"click_context\":\"TRENDING_DEVELOPERS_PAGE\",\"click_target\":\"OWNER\",\"click_visual_representation\":\"TRENDING_DEVELOPER\",\"actor_id\":null,\"record_id\":35128,\"originating_url\":\"https://github.com/trending/developers\",\"user_id\":null}}' data-hydro-click-hmac=\"4b77ec0b78bb6d14e9529afb5114d4a6e39f4f31c7f0f08b753b9dcfcdd5a593\" data-view-component=\"true\" href=\"/sorrycc\">\n",
       "             chencheng (云谦)\n",
       " </a> </h1>\n",
       " <p class=\"f4 text-normal mb-1\">\n",
       " <a class=\"Link--secondary\" data-hydro-click='{\"event_type\":\"explore.click\",\"payload\":{\"click_context\":\"TRENDING_DEVELOPERS_PAGE\",\"click_target\":\"OWNER\",\"click_visual_representation\":\"TRENDING_DEVELOPER\",\"actor_id\":null,\"record_id\":35128,\"originating_url\":\"https://github.com/trending/developers\",\"user_id\":null}}' data-hydro-click-hmac=\"4b77ec0b78bb6d14e9529afb5114d4a6e39f4f31c7f0f08b753b9dcfcdd5a593\" data-view-component=\"true\" href=\"/sorrycc\">\n",
       "               sorrycc\n",
       " </a> </p>\n",
       " </div>]"
      ]
     },
     "execution_count": 43,
     "metadata": {},
     "output_type": "execute_result"
    }
   ],
   "source": [
    "usuarios[:2]"
   ]
  },
  {
   "cell_type": "code",
   "execution_count": 44,
   "id": "a0a03195-5da9-4054-91ed-1167b2550775",
   "metadata": {},
   "outputs": [
    {
     "data": {
      "text/plain": [
       "'Arthur Vickers'"
      ]
     },
     "execution_count": 44,
     "metadata": {},
     "output_type": "execute_result"
    }
   ],
   "source": [
    "usuarios[0].select('h1 a')[0].text.strip(' \\n')"
   ]
  },
  {
   "cell_type": "code",
   "execution_count": 45,
   "id": "b09c486b-b476-41dd-8c59-73b94c1c2ec5",
   "metadata": {},
   "outputs": [],
   "source": [
    "nombres = [usuario.select('h1 a')[0].text.strip(' \\n') for usuario in usuarios]"
   ]
  },
  {
   "cell_type": "code",
   "execution_count": 46,
   "id": "da29cf74-ecf4-424b-b0ac-ee9b49c4f47b",
   "metadata": {},
   "outputs": [
    {
     "data": {
      "text/plain": [
       "25"
      ]
     },
     "execution_count": 46,
     "metadata": {},
     "output_type": "execute_result"
    }
   ],
   "source": [
    "len(nombres)"
   ]
  },
  {
   "cell_type": "code",
   "execution_count": 47,
   "id": "c0fb1ac3-186b-43cc-9281-eb91750b16a9",
   "metadata": {},
   "outputs": [
    {
     "data": {
      "text/plain": [
       "'ajcvickers'"
      ]
     },
     "execution_count": 47,
     "metadata": {},
     "output_type": "execute_result"
    }
   ],
   "source": [
    "usuarios[0].select('p a')[0].text.strip(' \\n')"
   ]
  },
  {
   "cell_type": "code",
   "execution_count": 56,
   "id": "dff7d363-49fd-4ee1-82f7-65b56e138b99",
   "metadata": {},
   "outputs": [],
   "source": [
    "usuarios_nick = [usuario.select('p a')[0].text.strip(' \\n') for usuario in usuarios] # se truena debido a que ahi tablas donde no tiene nick name de usuario "
   ]
  },
  {
   "cell_type": "code",
   "execution_count": 57,
   "id": "b9565e09-e779-48d6-bb5d-cd3a109bf9cc",
   "metadata": {},
   "outputs": [
    {
     "data": {
      "text/plain": [
       "['ajcvickers',\n",
       " 'sorrycc',\n",
       " 'sobolevn',\n",
       " 'monkeyWie',\n",
       " 'Mause',\n",
       " 'basnijholt',\n",
       " 'emilk',\n",
       " 'pcuenca',\n",
       " 'stephencelis',\n",
       " 'fffonion',\n",
       " 'bpasero',\n",
       " 'wu-sheng',\n",
       " 'jonataslaw',\n",
       " 'hughsie',\n",
       " 'ammarahm-ed',\n",
       " 'arogozhnikov',\n",
       " 'tklauser',\n",
       " 'stefanprodan',\n",
       " 'aeschli',\n",
       " 'SteveMacenski',\n",
       " 'nex3',\n",
       " 'ziishaned',\n",
       " 'adamchainz',\n",
       " 'cdietrich',\n",
       " 'janosh']"
      ]
     },
     "execution_count": 57,
     "metadata": {},
     "output_type": "execute_result"
    }
   ],
   "source": [
    "usuarios_nick\n",
    "    "
   ]
  },
  {
   "cell_type": "code",
   "execution_count": 58,
   "id": "4af03ad4-528a-4e2a-a729-be4953a69285",
   "metadata": {},
   "outputs": [
    {
     "data": {
      "text/plain": [
       "25"
      ]
     },
     "execution_count": 58,
     "metadata": {},
     "output_type": "execute_result"
    }
   ],
   "source": [
    "len(usuarios_nick)"
   ]
  },
  {
   "cell_type": "code",
   "execution_count": 59,
   "id": "aeda03d3-48ae-4bf4-a35f-4de9b6e2e693",
   "metadata": {},
   "outputs": [],
   "source": [
    "respuesta = [f'{user} ({name})' if user != name else user for name, user in zip(nombres, usuarios_nick)]"
   ]
  },
  {
   "cell_type": "code",
   "execution_count": 61,
   "id": "73b0d015-7dce-4f14-8cde-69d7c581b43c",
   "metadata": {},
   "outputs": [
    {
     "data": {
      "text/plain": [
       "['ajcvickers (Arthur Vickers)',\n",
       " 'sorrycc (chencheng (云谦))',\n",
       " 'sobolevn (Nikita Sobolev)',\n",
       " 'monkeyWie (Li Wei)',\n",
       " 'Mause (Elliana May)',\n",
       " 'basnijholt (Bas Nijholt)',\n",
       " 'emilk (Emil Ernerfeldt)',\n",
       " 'pcuenca (Pedro Cuenca)',\n",
       " 'stephencelis (Stephen Celis)',\n",
       " 'fffonion (Wangchong Zhou)']"
      ]
     },
     "execution_count": 61,
     "metadata": {},
     "output_type": "execute_result"
    }
   ],
   "source": [
    "respuesta[:10]"
   ]
  },
  {
   "cell_type": "code",
   "execution_count": 64,
   "id": "fb1aa542-b8a4-40d3-95f2-305a241da34a",
   "metadata": {},
   "outputs": [
    {
     "data": {
      "text/plain": [
       "'ajcvickers'"
      ]
     },
     "execution_count": 64,
     "metadata": {},
     "output_type": "execute_result"
    }
   ],
   "source": [
    "usuarios[0].select('p a')[0].text.strip(' \\n')"
   ]
  },
  {
   "cell_type": "code",
   "execution_count": null,
   "id": "5483051c-e3e8-442a-bc37-690a8f86d5f0",
   "metadata": {},
   "outputs": [],
   "source": []
  },
  {
   "cell_type": "markdown",
   "id": "1724d801-8ba6-4aad-92ca-588a23b8cb19",
   "metadata": {},
   "source": [
    "2 EJERCICIO"
   ]
  },
  {
   "cell_type": "code",
   "execution_count": 387,
   "id": "bfe8cdbd-4dac-43b3-9ebe-70cdaa97d238",
   "metadata": {},
   "outputs": [],
   "source": [
    "url2 = 'https://github.com/trending/python?since=daily'"
   ]
  },
  {
   "cell_type": "code",
   "execution_count": 388,
   "id": "f64f43d2-46d3-4131-ac16-bf0ddfafc769",
   "metadata": {
    "tags": []
   },
   "outputs": [],
   "source": [
    "response_2 = requests.get(url2)"
   ]
  },
  {
   "cell_type": "code",
   "execution_count": 389,
   "id": "f85ab657-e424-4ec9-b4de-90280f4119db",
   "metadata": {},
   "outputs": [],
   "source": [
    "sopa_git_2 = BeautifulSoup(response_2.content)"
   ]
  },
  {
   "cell_type": "code",
   "execution_count": 390,
   "id": "6dfc0b90-a3c5-4886-8a81-e6fcb1468589",
   "metadata": {},
   "outputs": [],
   "source": [
    "bloques_2 = sopa_git_2.select('article.Box-row')"
   ]
  },
  {
   "cell_type": "code",
   "execution_count": 391,
   "id": "1ed6549c-447c-4c15-8bc5-0769fb922957",
   "metadata": {},
   "outputs": [
    {
     "data": {
      "text/plain": [
       "25"
      ]
     },
     "execution_count": 391,
     "metadata": {},
     "output_type": "execute_result"
    }
   ],
   "source": [
    "len(bloques_2)"
   ]
  },
  {
   "cell_type": "code",
   "execution_count": 395,
   "id": "757fb25d-9a5e-4224-b978-adbb064d23af",
   "metadata": {},
   "outputs": [
    {
     "data": {
      "text/plain": [
       "'\\n\\n\\n\\n\\n        hpcaitech /\\n\\n      ColossalAI\\n'"
      ]
     },
     "execution_count": 395,
     "metadata": {},
     "output_type": "execute_result"
    }
   ],
   "source": [
    "bloques_2[0].select('h1 a')[0].text"
   ]
  },
  {
   "cell_type": "code",
   "execution_count": 396,
   "id": "acbe62ab-09c3-431c-883e-db3a12a2e110",
   "metadata": {},
   "outputs": [
    {
     "data": {
      "text/plain": [
       "'hpcaitech /\\n\\n      ColossalAI'"
      ]
     },
     "execution_count": 396,
     "metadata": {},
     "output_type": "execute_result"
    }
   ],
   "source": [
    "bloques_2[0].select('h1 a')[0].text.strip('\\n ')"
   ]
  },
  {
   "cell_type": "code",
   "execution_count": 184,
   "id": "735620e4-b3bf-43c6-9b90-16656619d0c3",
   "metadata": {},
   "outputs": [],
   "source": []
  },
  {
   "cell_type": "code",
   "execution_count": 185,
   "id": "817daba1-48b6-4fdc-9b7c-65d1f820e1e8",
   "metadata": {},
   "outputs": [
    {
     "data": {
      "text/plain": [
       "'hpcaitech/ColossalAI'"
      ]
     },
     "execution_count": 185,
     "metadata": {},
     "output_type": "execute_result"
    }
   ],
   "source": [
    "bloques_2[0].select('h1 a')[0].text.strip('\\n ').replace(\"\\n\\n    \", \"\").replace(\" \", \"\")"
   ]
  },
  {
   "cell_type": "code",
   "execution_count": 398,
   "id": "f82b6edd-9037-4c07-87c3-ecc27aeb4b6c",
   "metadata": {},
   "outputs": [
    {
     "name": "stdout",
     "output_type": "stream",
     "text": [
      "hpcaitech/ColossalAI\n",
      "vinta/awesome-python\n",
      "PaddlePaddle/PaddleDetection\n",
      "bregman-arie/devops-exercises\n",
      "521xueweihan/HelloGitHub\n",
      "pre-commit/pre-commit-hooks\n",
      "public-apis/public-apis\n",
      "microsoft/recommenders\n",
      "d8ahazard/sd_dreambooth_extension\n",
      "open-mmlab/mmdeploy\n",
      "mli/autocut\n",
      "huggingface/setfit\n",
      "SpyGuard/SpyGuard\n",
      "GerryDazoo/Slinger\n",
      "sczhou/CodeFormer\n",
      "mouredev/Hello-Python\n",
      "ihabunek/toot\n",
      "ansible/awx\n",
      "jackfrued/Python-100-Days\n",
      "python/cpython\n",
      "PaddlePaddle/PaddleSpeech\n",
      "PaddlePaddle/PaddleOCR\n",
      "microsoft/nni\n",
      "Azure/azure-sdk-for-python\n",
      "streamlit/streamlit\n"
     ]
    }
   ],
   "source": [
    "for repo in bloques_2:\n",
    "    print(repo.select('h1 a')[0].text.strip('\\n ').replace(\"\\n\\n    \", \"\").replace(\" \", \"\"))"
   ]
  },
  {
   "cell_type": "code",
   "execution_count": null,
   "id": "1dd122f2-dcf5-48b3-bffe-4614c96a6c42",
   "metadata": {},
   "outputs": [],
   "source": []
  },
  {
   "cell_type": "code",
   "execution_count": null,
   "id": "20444829-86ff-4ca8-9d19-19a1374f309b",
   "metadata": {},
   "outputs": [],
   "source": []
  },
  {
   "cell_type": "code",
   "execution_count": null,
   "id": "ae47f4c2-87de-40a5-a2b9-ad1a112eb892",
   "metadata": {},
   "outputs": [],
   "source": []
  },
  {
   "cell_type": "code",
   "execution_count": 186,
   "id": "74e7fdc3-84e9-470d-bde7-d5ebcdde9fa8",
   "metadata": {},
   "outputs": [],
   "source": [
    "repo_usuario = [repo.select('h1 a')[0].text.strip('\\n ').replace(\"\\n\\n    \", \"\").replace(\" \", \"\") for repo in bloques_2] # se truena debido a que ahi tablas donde no tiene nick name de usuario "
   ]
  },
  {
   "cell_type": "code",
   "execution_count": 187,
   "id": "db674ba0-ed97-4f7c-a8d2-98978c731786",
   "metadata": {},
   "outputs": [
    {
     "data": {
      "text/plain": [
       "['hpcaitech/ColossalAI',\n",
       " 'vinta/awesome-python',\n",
       " 'PaddlePaddle/PaddleDetection',\n",
       " 'bregman-arie/devops-exercises',\n",
       " '521xueweihan/HelloGitHub',\n",
       " 'pre-commit/pre-commit-hooks',\n",
       " 'public-apis/public-apis',\n",
       " 'microsoft/recommenders',\n",
       " 'd8ahazard/sd_dreambooth_extension',\n",
       " 'open-mmlab/mmdeploy',\n",
       " 'mli/autocut',\n",
       " 'huggingface/setfit',\n",
       " 'SpyGuard/SpyGuard',\n",
       " 'GerryDazoo/Slinger',\n",
       " 'sczhou/CodeFormer',\n",
       " 'mouredev/Hello-Python',\n",
       " 'ihabunek/toot',\n",
       " 'ansible/awx',\n",
       " 'jackfrued/Python-100-Days',\n",
       " 'python/cpython',\n",
       " 'PaddlePaddle/PaddleSpeech',\n",
       " 'PaddlePaddle/PaddleOCR',\n",
       " 'microsoft/nni',\n",
       " 'Azure/azure-sdk-for-python',\n",
       " 'streamlit/streamlit']"
      ]
     },
     "execution_count": 187,
     "metadata": {},
     "output_type": "execute_result"
    }
   ],
   "source": [
    "repo_usuario"
   ]
  },
  {
   "cell_type": "code",
   "execution_count": null,
   "id": "d81d87bb-4a41-4c14-ad3d-3e6e1267f842",
   "metadata": {},
   "outputs": [],
   "source": []
  },
  {
   "cell_type": "code",
   "execution_count": null,
   "id": "855cb2c5-96ee-4a5b-9c2a-667c2bd4e1a0",
   "metadata": {},
   "outputs": [],
   "source": []
  },
  {
   "cell_type": "code",
   "execution_count": 275,
   "id": "b38eea7d-098d-445b-8b3f-04dd0247f6e6",
   "metadata": {},
   "outputs": [],
   "source": [
    "url3 = 'https://en.wikipedia.org/wiki/Walt_Disney'"
   ]
  },
  {
   "cell_type": "code",
   "execution_count": 276,
   "id": "977309bc-59c1-4f71-9234-dd0169c0723c",
   "metadata": {},
   "outputs": [],
   "source": [
    "response_3 = requests.get(url3)"
   ]
  },
  {
   "cell_type": "code",
   "execution_count": 277,
   "id": "db08cbf5-b850-4f4e-a8e4-2ace0ce5c2bf",
   "metadata": {},
   "outputs": [],
   "source": [
    "sopa_git_3 = BeautifulSoup(response_3.content)"
   ]
  },
  {
   "cell_type": "code",
   "execution_count": 399,
   "id": "bac14638-bc98-403c-a2bc-85414f89acf8",
   "metadata": {
    "tags": []
   },
   "outputs": [],
   "source": [
    "bloques_3 = sopa_git_2.select('a img')"
   ]
  },
  {
   "cell_type": "code",
   "execution_count": 400,
   "id": "5883bf41-af30-4e96-8812-4a0c283405e5",
   "metadata": {},
   "outputs": [
    {
     "data": {
      "text/plain": [
       "115"
      ]
     },
     "execution_count": 400,
     "metadata": {},
     "output_type": "execute_result"
    }
   ],
   "source": [
    "len(bloques_3)"
   ]
  },
  {
   "cell_type": "code",
   "execution_count": 402,
   "id": "70fa840e-53a7-410a-b67f-ec17aa9f645b",
   "metadata": {},
   "outputs": [
    {
     "data": {
      "text/plain": [
       "[<img alt=\"\" aria-label=\"Team\" class=\"avatar mr-2 flex-shrink-0 js-jump-to-suggestion-avatar d-none\" height=\"28\" src=\"\" width=\"28\"/>,\n",
       " <img alt=\"\" aria-label=\"Team\" class=\"avatar mr-2 flex-shrink-0 js-jump-to-suggestion-avatar d-none\" height=\"28\" src=\"\" width=\"28\"/>,\n",
       " <img alt=\"\" aria-label=\"Team\" class=\"avatar mr-2 flex-shrink-0 js-jump-to-suggestion-avatar d-none\" height=\"28\" src=\"\" width=\"28\"/>,\n",
       " <img alt=\"\" aria-label=\"Team\" class=\"avatar mr-2 flex-shrink-0 js-jump-to-suggestion-avatar d-none\" height=\"28\" src=\"\" width=\"28\"/>,\n",
       " <img alt=\"@FrankLeeeee\" class=\"avatar mb-1 avatar-user\" height=\"20\" src=\"https://avatars.githubusercontent.com/u/31818963?s=40&amp;v=4\" width=\"20\"/>,\n",
       " <img alt=\"@feifeibear\" class=\"avatar mb-1 avatar-user\" height=\"20\" src=\"https://avatars.githubusercontent.com/u/5706969?s=40&amp;v=4\" width=\"20\"/>,\n",
       " <img alt=\"@ver217\" class=\"avatar mb-1 avatar-user\" height=\"20\" src=\"https://avatars.githubusercontent.com/u/23111350?s=40&amp;v=4\" width=\"20\"/>,\n",
       " <img alt=\"@YuliangLiu0306\" class=\"avatar mb-1 avatar-user\" height=\"20\" src=\"https://avatars.githubusercontent.com/u/72588413?s=40&amp;v=4\" width=\"20\"/>,\n",
       " <img alt=\"@1SAA\" class=\"avatar mb-1 avatar-user\" height=\"20\" src=\"https://avatars.githubusercontent.com/u/72907851?s=40&amp;v=4\" width=\"20\"/>,\n",
       " <img alt=\"@vinta\" class=\"avatar mb-1 avatar-user\" height=\"20\" src=\"https://avatars.githubusercontent.com/u/652070?s=40&amp;v=4\" width=\"20\"/>]"
      ]
     },
     "execution_count": 402,
     "metadata": {},
     "output_type": "execute_result"
    }
   ],
   "source": [
    "bloques_3[:10]"
   ]
  },
  {
   "cell_type": "code",
   "execution_count": null,
   "id": "f0df3f5a-2c7c-4ad5-966b-3dbc1eb6e755",
   "metadata": {},
   "outputs": [],
   "source": []
  },
  {
   "cell_type": "code",
   "execution_count": null,
   "id": "e2ffe89b-8f3f-4533-88ab-9f0e358de41e",
   "metadata": {},
   "outputs": [],
   "source": []
  },
  {
   "cell_type": "code",
   "execution_count": null,
   "id": "2789bee6-d443-49f7-a720-8925e36ab9c5",
   "metadata": {},
   "outputs": [],
   "source": []
  },
  {
   "cell_type": "code",
   "execution_count": 279,
   "id": "d0ca9871-f7e9-473e-b755-9cd4b611a05a",
   "metadata": {},
   "outputs": [
    {
     "data": {
      "text/plain": [
       "<img alt=\"@FrankLeeeee\" class=\"avatar mb-1 avatar-user\" height=\"20\" src=\"https://avatars.githubusercontent.com/u/31818963?s=40&amp;v=4\" width=\"20\"/>"
      ]
     },
     "execution_count": 279,
     "metadata": {},
     "output_type": "execute_result"
    }
   ],
   "source": [
    "bloques_3[4]"
   ]
  },
  {
   "cell_type": "code",
   "execution_count": 280,
   "id": "4a59c9d7-9e95-4805-be5e-4f334475a638",
   "metadata": {},
   "outputs": [
    {
     "data": {
      "text/plain": [
       "<img alt=\"@feifeibear\" class=\"avatar mb-1 avatar-user\" height=\"20\" src=\"https://avatars.githubusercontent.com/u/5706969?s=40&amp;v=4\" width=\"20\"/>"
      ]
     },
     "execution_count": 280,
     "metadata": {},
     "output_type": "execute_result"
    }
   ],
   "source": [
    "bloques_3[5]"
   ]
  },
  {
   "cell_type": "code",
   "execution_count": 289,
   "id": "9b01c3b3-0c1d-44c6-8ee9-cd17783e2b7d",
   "metadata": {},
   "outputs": [
    {
     "data": {
      "text/plain": [
       "'https://avatars.githubusercontent.com/u/5706969?s=40&v=4'"
      ]
     },
     "execution_count": 289,
     "metadata": {},
     "output_type": "execute_result"
    }
   ],
   "source": [
    "bloques_3[5]['src']"
   ]
  },
  {
   "cell_type": "code",
   "execution_count": null,
   "id": "90a88e97-4e3f-49ba-a918-e741ed3de9f5",
   "metadata": {},
   "outputs": [],
   "source": []
  },
  {
   "cell_type": "code",
   "execution_count": 283,
   "id": "f8465492-50bb-483a-874f-cbf4add6f481",
   "metadata": {},
   "outputs": [
    {
     "name": "stdout",
     "output_type": "stream",
     "text": [
      "\n",
      "\n",
      "\n",
      "\n",
      "https://avatars.githubusercontent.com/u/31818963?s=40&v=4\n",
      "https://avatars.githubusercontent.com/u/5706969?s=40&v=4\n",
      "https://avatars.githubusercontent.com/u/23111350?s=40&v=4\n",
      "https://avatars.githubusercontent.com/u/72588413?s=40&v=4\n",
      "https://avatars.githubusercontent.com/u/72907851?s=40&v=4\n",
      "https://avatars.githubusercontent.com/u/652070?s=40&v=4\n",
      "https://avatars.githubusercontent.com/u/33116358?s=40&v=4\n",
      "https://avatars.githubusercontent.com/u/4560482?s=40&v=4\n",
      "https://avatars.githubusercontent.com/u/596651?s=40&v=4\n",
      "https://avatars.githubusercontent.com/u/178641?s=40&v=4\n",
      "https://avatars.githubusercontent.com/u/22989727?s=40&v=4\n",
      "https://avatars.githubusercontent.com/u/15628872?s=40&v=4\n",
      "https://avatars.githubusercontent.com/u/13104100?s=40&v=4\n",
      "https://avatars.githubusercontent.com/u/12605721?s=40&v=4\n",
      "https://avatars.githubusercontent.com/u/23647349?s=40&v=4\n",
      "https://avatars.githubusercontent.com/u/10349437?s=40&v=4\n",
      "https://avatars.githubusercontent.com/u/37985796?s=40&v=4\n",
      "https://avatars.githubusercontent.com/u/26654315?s=40&v=4\n",
      "https://avatars.githubusercontent.com/u/23431146?s=40&v=4\n",
      "https://avatars.githubusercontent.com/u/59370927?s=40&v=4\n",
      "https://avatars.githubusercontent.com/u/8255800?s=40&v=4\n",
      "https://avatars.githubusercontent.com/u/994371?s=40&v=4\n",
      "https://avatars.githubusercontent.com/u/26538619?s=40&v=4\n",
      "https://avatars.githubusercontent.com/u/42088872?s=40&v=4\n",
      "https://avatars.githubusercontent.com/u/1235073?s=40&v=4\n",
      "https://avatars.githubusercontent.com/u/1810591?s=40&v=4\n",
      "https://avatars.githubusercontent.com/in/68672?s=40&v=4\n",
      "https://avatars.githubusercontent.com/u/16340485?s=40&v=4\n",
      "https://avatars.githubusercontent.com/u/665269?s=40&v=4\n",
      "https://avatars.githubusercontent.com/u/232692?s=40&v=4\n",
      "https://avatars.githubusercontent.com/u/50463866?s=40&v=4\n",
      "https://avatars.githubusercontent.com/u/15134885?s=40&v=4\n",
      "https://avatars.githubusercontent.com/u/36134699?s=40&v=4\n",
      "https://avatars.githubusercontent.com/u/246103?s=40&v=4\n",
      "https://avatars.githubusercontent.com/u/1914165?s=40&v=4\n",
      "https://avatars.githubusercontent.com/u/3491412?s=40&v=4\n",
      "https://avatars.githubusercontent.com/u/1726448?s=40&v=4\n",
      "https://avatars.githubusercontent.com/u/20682858?s=40&v=4\n",
      "https://avatars.githubusercontent.com/u/5720537?s=40&v=4\n",
      "https://avatars.githubusercontent.com/u/7650665?s=40&v=4\n",
      "https://avatars.githubusercontent.com/u/1633844?s=40&v=4\n",
      "https://avatars.githubusercontent.com/u/1239736?s=40&v=4\n",
      "https://avatars.githubusercontent.com/u/28671653?s=40&v=4\n",
      "https://avatars.githubusercontent.com/u/41138331?s=40&v=4\n",
      "https://avatars.githubusercontent.com/u/4560679?s=40&v=4\n",
      "https://avatars.githubusercontent.com/u/19465119?s=40&v=4\n",
      "https://avatars.githubusercontent.com/u/421857?s=40&v=4\n",
      "https://avatars.githubusercontent.com/u/54462604?s=40&v=4\n",
      "https://avatars.githubusercontent.com/u/45375764?s=40&v=4\n",
      "https://avatars.githubusercontent.com/u/108717066?s=40&v=4\n",
      "https://avatars.githubusercontent.com/u/26859204?s=40&v=4\n",
      "https://avatars.githubusercontent.com/u/32893314?s=40&v=4\n",
      "https://avatars.githubusercontent.com/u/32633752?s=40&v=4\n",
      "https://avatars.githubusercontent.com/u/229382?s=40&v=4\n",
      "https://avatars.githubusercontent.com/u/1433753?s=40&v=4\n",
      "https://avatars.githubusercontent.com/u/25131750?s=40&v=4\n",
      "https://avatars.githubusercontent.com/u/117583084?s=40&v=4\n",
      "https://avatars.githubusercontent.com/u/102599361?s=40&v=4\n",
      "https://avatars.githubusercontent.com/u/14334509?s=40&v=4\n",
      "https://avatars.githubusercontent.com/u/4918549?s=40&v=4\n",
      "https://avatars.githubusercontent.com/u/70536672?s=40&v=4\n",
      "https://avatars.githubusercontent.com/u/17043402?s=40&v=4\n",
      "https://avatars.githubusercontent.com/u/482138?s=40&v=4\n",
      "https://avatars.githubusercontent.com/u/1046124?s=40&v=4\n",
      "https://avatars.githubusercontent.com/u/5824729?s=40&v=4\n",
      "https://avatars.githubusercontent.com/u/309417?s=40&v=4\n",
      "https://avatars.githubusercontent.com/u/344995?s=40&v=4\n",
      "https://avatars.githubusercontent.com/in/6924?s=40&v=4\n",
      "https://avatars.githubusercontent.com/u/1385596?s=40&v=4\n",
      "https://avatars.githubusercontent.com/u/9889020?s=40&v=4\n",
      "https://avatars.githubusercontent.com/u/214912?s=40&v=4\n",
      "https://avatars.githubusercontent.com/u/89544?s=40&v=4\n",
      "https://avatars.githubusercontent.com/u/7474657?s=40&v=4\n",
      "https://avatars.githubusercontent.com/u/13017944?s=40&v=4\n",
      "https://avatars.githubusercontent.com/u/10865729?s=40&v=4\n",
      "https://avatars.githubusercontent.com/u/599268?s=40&v=4\n",
      "https://avatars.githubusercontent.com/u/2331406?s=40&v=4\n",
      "https://avatars.githubusercontent.com/u/2894642?s=40&v=4\n",
      "https://avatars.githubusercontent.com/u/219470?s=40&v=4\n",
      "https://avatars.githubusercontent.com/u/144359?s=40&v=4\n",
      "https://avatars.githubusercontent.com/u/588792?s=40&v=4\n",
      "https://avatars.githubusercontent.com/u/194129?s=40&v=4\n",
      "https://avatars.githubusercontent.com/u/3038472?s=40&v=4\n",
      "https://avatars.githubusercontent.com/u/24568452?s=40&v=4\n",
      "https://avatars.githubusercontent.com/u/87408988?s=40&v=4\n",
      "https://avatars.githubusercontent.com/u/3064195?s=40&v=4\n",
      "https://avatars.githubusercontent.com/u/11361692?s=40&v=4\n",
      "https://avatars.githubusercontent.com/u/26592129?s=40&v=4\n",
      "https://avatars.githubusercontent.com/u/12406017?s=40&v=4\n",
      "https://avatars.githubusercontent.com/u/25809855?s=40&v=4\n",
      "https://avatars.githubusercontent.com/u/31891223?s=40&v=4\n",
      "https://avatars.githubusercontent.com/u/50011306?s=40&v=4\n",
      "https://avatars.githubusercontent.com/u/22682999?s=40&v=4\n",
      "https://avatars.githubusercontent.com/u/8463288?s=40&v=4\n",
      "https://avatars.githubusercontent.com/u/40699903?s=40&v=4\n",
      "https://avatars.githubusercontent.com/u/38930155?s=40&v=4\n",
      "https://avatars.githubusercontent.com/u/33053116?s=40&v=4\n",
      "https://avatars.githubusercontent.com/u/1050156?s=40&v=4\n",
      "https://avatars.githubusercontent.com/u/53356347?s=40&v=4\n",
      "https://avatars.githubusercontent.com/u/31998003?s=40&v=4\n",
      "https://avatars.githubusercontent.com/u/18218145?s=40&v=4\n",
      "https://avatars.githubusercontent.com/u/70930885?s=40&v=4\n",
      "https://avatars.githubusercontent.com/u/690814?s=40&v=4\n",
      "https://avatars.githubusercontent.com/u/1673013?s=40&v=4\n",
      "https://avatars.githubusercontent.com/u/709022?s=40&v=4\n",
      "https://avatars.githubusercontent.com/u/6151409?s=40&v=4\n",
      "https://avatars.githubusercontent.com/u/69432?s=40&v=4\n"
     ]
    }
   ],
   "source": [
    "for imag in bloques_3:\n",
    "    print(imag['src'])"
   ]
  },
  {
   "cell_type": "code",
   "execution_count": 284,
   "id": "e400bf6c-6523-4fd9-b603-c6cbc385b13f",
   "metadata": {},
   "outputs": [],
   "source": [
    "repo_link = [imag['src'] for imag in bloques_3 if bool(imag['src'])]"
   ]
  },
  {
   "cell_type": "code",
   "execution_count": 285,
   "id": "9d0a9e7b-fee3-42f9-a99c-8d24cef1351e",
   "metadata": {},
   "outputs": [
    {
     "name": "stdout",
     "output_type": "stream",
     "text": [
      "https://avatars.githubusercontent.com/u/31818963?s=40&v=4\n",
      "https://avatars.githubusercontent.com/u/5706969?s=40&v=4\n",
      "https://avatars.githubusercontent.com/u/23111350?s=40&v=4\n",
      "https://avatars.githubusercontent.com/u/72588413?s=40&v=4\n",
      "https://avatars.githubusercontent.com/u/72907851?s=40&v=4\n",
      "https://avatars.githubusercontent.com/u/652070?s=40&v=4\n",
      "https://avatars.githubusercontent.com/u/33116358?s=40&v=4\n",
      "https://avatars.githubusercontent.com/u/4560482?s=40&v=4\n",
      "https://avatars.githubusercontent.com/u/596651?s=40&v=4\n",
      "https://avatars.githubusercontent.com/u/178641?s=40&v=4\n",
      "https://avatars.githubusercontent.com/u/22989727?s=40&v=4\n",
      "https://avatars.githubusercontent.com/u/15628872?s=40&v=4\n",
      "https://avatars.githubusercontent.com/u/13104100?s=40&v=4\n",
      "https://avatars.githubusercontent.com/u/12605721?s=40&v=4\n",
      "https://avatars.githubusercontent.com/u/23647349?s=40&v=4\n",
      "https://avatars.githubusercontent.com/u/10349437?s=40&v=4\n",
      "https://avatars.githubusercontent.com/u/37985796?s=40&v=4\n",
      "https://avatars.githubusercontent.com/u/26654315?s=40&v=4\n",
      "https://avatars.githubusercontent.com/u/23431146?s=40&v=4\n",
      "https://avatars.githubusercontent.com/u/59370927?s=40&v=4\n",
      "https://avatars.githubusercontent.com/u/8255800?s=40&v=4\n",
      "https://avatars.githubusercontent.com/u/994371?s=40&v=4\n",
      "https://avatars.githubusercontent.com/u/26538619?s=40&v=4\n",
      "https://avatars.githubusercontent.com/u/42088872?s=40&v=4\n",
      "https://avatars.githubusercontent.com/u/1235073?s=40&v=4\n",
      "https://avatars.githubusercontent.com/u/1810591?s=40&v=4\n",
      "https://avatars.githubusercontent.com/in/68672?s=40&v=4\n",
      "https://avatars.githubusercontent.com/u/16340485?s=40&v=4\n",
      "https://avatars.githubusercontent.com/u/665269?s=40&v=4\n",
      "https://avatars.githubusercontent.com/u/232692?s=40&v=4\n",
      "https://avatars.githubusercontent.com/u/50463866?s=40&v=4\n",
      "https://avatars.githubusercontent.com/u/15134885?s=40&v=4\n",
      "https://avatars.githubusercontent.com/u/36134699?s=40&v=4\n",
      "https://avatars.githubusercontent.com/u/246103?s=40&v=4\n",
      "https://avatars.githubusercontent.com/u/1914165?s=40&v=4\n",
      "https://avatars.githubusercontent.com/u/3491412?s=40&v=4\n",
      "https://avatars.githubusercontent.com/u/1726448?s=40&v=4\n",
      "https://avatars.githubusercontent.com/u/20682858?s=40&v=4\n",
      "https://avatars.githubusercontent.com/u/5720537?s=40&v=4\n",
      "https://avatars.githubusercontent.com/u/7650665?s=40&v=4\n",
      "https://avatars.githubusercontent.com/u/1633844?s=40&v=4\n",
      "https://avatars.githubusercontent.com/u/1239736?s=40&v=4\n",
      "https://avatars.githubusercontent.com/u/28671653?s=40&v=4\n",
      "https://avatars.githubusercontent.com/u/41138331?s=40&v=4\n",
      "https://avatars.githubusercontent.com/u/4560679?s=40&v=4\n",
      "https://avatars.githubusercontent.com/u/19465119?s=40&v=4\n",
      "https://avatars.githubusercontent.com/u/421857?s=40&v=4\n",
      "https://avatars.githubusercontent.com/u/54462604?s=40&v=4\n",
      "https://avatars.githubusercontent.com/u/45375764?s=40&v=4\n",
      "https://avatars.githubusercontent.com/u/108717066?s=40&v=4\n",
      "https://avatars.githubusercontent.com/u/26859204?s=40&v=4\n",
      "https://avatars.githubusercontent.com/u/32893314?s=40&v=4\n",
      "https://avatars.githubusercontent.com/u/32633752?s=40&v=4\n",
      "https://avatars.githubusercontent.com/u/229382?s=40&v=4\n",
      "https://avatars.githubusercontent.com/u/1433753?s=40&v=4\n",
      "https://avatars.githubusercontent.com/u/25131750?s=40&v=4\n",
      "https://avatars.githubusercontent.com/u/117583084?s=40&v=4\n",
      "https://avatars.githubusercontent.com/u/102599361?s=40&v=4\n",
      "https://avatars.githubusercontent.com/u/14334509?s=40&v=4\n",
      "https://avatars.githubusercontent.com/u/4918549?s=40&v=4\n",
      "https://avatars.githubusercontent.com/u/70536672?s=40&v=4\n",
      "https://avatars.githubusercontent.com/u/17043402?s=40&v=4\n",
      "https://avatars.githubusercontent.com/u/482138?s=40&v=4\n",
      "https://avatars.githubusercontent.com/u/1046124?s=40&v=4\n",
      "https://avatars.githubusercontent.com/u/5824729?s=40&v=4\n",
      "https://avatars.githubusercontent.com/u/309417?s=40&v=4\n",
      "https://avatars.githubusercontent.com/u/344995?s=40&v=4\n",
      "https://avatars.githubusercontent.com/in/6924?s=40&v=4\n",
      "https://avatars.githubusercontent.com/u/1385596?s=40&v=4\n",
      "https://avatars.githubusercontent.com/u/9889020?s=40&v=4\n",
      "https://avatars.githubusercontent.com/u/214912?s=40&v=4\n",
      "https://avatars.githubusercontent.com/u/89544?s=40&v=4\n",
      "https://avatars.githubusercontent.com/u/7474657?s=40&v=4\n",
      "https://avatars.githubusercontent.com/u/13017944?s=40&v=4\n",
      "https://avatars.githubusercontent.com/u/10865729?s=40&v=4\n",
      "https://avatars.githubusercontent.com/u/599268?s=40&v=4\n",
      "https://avatars.githubusercontent.com/u/2331406?s=40&v=4\n",
      "https://avatars.githubusercontent.com/u/2894642?s=40&v=4\n",
      "https://avatars.githubusercontent.com/u/219470?s=40&v=4\n",
      "https://avatars.githubusercontent.com/u/144359?s=40&v=4\n",
      "https://avatars.githubusercontent.com/u/588792?s=40&v=4\n",
      "https://avatars.githubusercontent.com/u/194129?s=40&v=4\n",
      "https://avatars.githubusercontent.com/u/3038472?s=40&v=4\n",
      "https://avatars.githubusercontent.com/u/24568452?s=40&v=4\n",
      "https://avatars.githubusercontent.com/u/87408988?s=40&v=4\n",
      "https://avatars.githubusercontent.com/u/3064195?s=40&v=4\n",
      "https://avatars.githubusercontent.com/u/11361692?s=40&v=4\n",
      "https://avatars.githubusercontent.com/u/26592129?s=40&v=4\n",
      "https://avatars.githubusercontent.com/u/12406017?s=40&v=4\n",
      "https://avatars.githubusercontent.com/u/25809855?s=40&v=4\n",
      "https://avatars.githubusercontent.com/u/31891223?s=40&v=4\n",
      "https://avatars.githubusercontent.com/u/50011306?s=40&v=4\n",
      "https://avatars.githubusercontent.com/u/22682999?s=40&v=4\n",
      "https://avatars.githubusercontent.com/u/8463288?s=40&v=4\n",
      "https://avatars.githubusercontent.com/u/40699903?s=40&v=4\n",
      "https://avatars.githubusercontent.com/u/38930155?s=40&v=4\n",
      "https://avatars.githubusercontent.com/u/33053116?s=40&v=4\n",
      "https://avatars.githubusercontent.com/u/1050156?s=40&v=4\n",
      "https://avatars.githubusercontent.com/u/53356347?s=40&v=4\n",
      "https://avatars.githubusercontent.com/u/31998003?s=40&v=4\n",
      "https://avatars.githubusercontent.com/u/18218145?s=40&v=4\n",
      "https://avatars.githubusercontent.com/u/70930885?s=40&v=4\n",
      "https://avatars.githubusercontent.com/u/690814?s=40&v=4\n",
      "https://avatars.githubusercontent.com/u/1673013?s=40&v=4\n",
      "https://avatars.githubusercontent.com/u/709022?s=40&v=4\n",
      "https://avatars.githubusercontent.com/u/6151409?s=40&v=4\n",
      "https://avatars.githubusercontent.com/u/69432?s=40&v=4\n"
     ]
    }
   ],
   "source": [
    "for imag in bloques_3:\n",
    "    if bool(imag['src']):\n",
    "        print(imag['src'])"
   ]
  },
  {
   "cell_type": "code",
   "execution_count": 290,
   "id": "32906478-8d94-4802-95c4-f3ff3836d50c",
   "metadata": {},
   "outputs": [
    {
     "data": {
      "text/plain": [
       "['https://avatars.githubusercontent.com/u/31818963?s=40&v=4',\n",
       " 'https://avatars.githubusercontent.com/u/5706969?s=40&v=4',\n",
       " 'https://avatars.githubusercontent.com/u/23111350?s=40&v=4',\n",
       " 'https://avatars.githubusercontent.com/u/72588413?s=40&v=4',\n",
       " 'https://avatars.githubusercontent.com/u/72907851?s=40&v=4',\n",
       " 'https://avatars.githubusercontent.com/u/652070?s=40&v=4',\n",
       " 'https://avatars.githubusercontent.com/u/33116358?s=40&v=4',\n",
       " 'https://avatars.githubusercontent.com/u/4560482?s=40&v=4',\n",
       " 'https://avatars.githubusercontent.com/u/596651?s=40&v=4',\n",
       " 'https://avatars.githubusercontent.com/u/178641?s=40&v=4']"
      ]
     },
     "execution_count": 290,
     "metadata": {},
     "output_type": "execute_result"
    }
   ],
   "source": [
    "repo_usuario[:10]"
   ]
  },
  {
   "cell_type": "code",
   "execution_count": null,
   "id": "54c216bc-ce58-4fc7-9b87-2bf60eb5f6b8",
   "metadata": {},
   "outputs": [],
   "source": []
  },
  {
   "cell_type": "code",
   "execution_count": 109,
   "id": "1d653d82-e580-437f-81de-9c3c87bee163",
   "metadata": {},
   "outputs": [
    {
     "data": {
      "text/plain": [
       "'hpcaitech/ColossalAI'"
      ]
     },
     "execution_count": 109,
     "metadata": {},
     "output_type": "execute_result"
    }
   ],
   "source": [
    "# <div class=\"mw-parser-output\"><style data-mw-deduplicate=\"TemplateStyles:r1097025294\">.mw-parser-output .side-box{margin:4px 0;box-sizing:border-box;border:1px solid #aaa;font-size:88%;line-height:1.25em;background-color:#f9f9f9}.mw-parser-output .side-box-abovebelow,.mw-parser-output .side-box-text{padding:0.25em 0.9em}.mw-parser-output .side-box-image{padding:2px 0 2px 0.9em;text-align:center}.mw-parser-output .side-box-imageright{padding:2px 0.9em 2px 0;text-align:center}@media(min-width:500px){.mw-parser-output .side-box-flex{display:flex;align-items:center}.mw-parser-output .side-box-text{flex:1}}@media(min-width:720px){.mw-parser-output .side-box{width:238px}.mw-parser-output .side-box-right{clear:right;float:right;margin-left:1em}.mw-parser-output .side-box-left{margin-right:1em}}</style><div class=\"side-box side-box-right plainlinks sistersitebox\">\n"
   ]
  },
  {
   "cell_type": "code",
   "execution_count": null,
   "id": "83553c0f-51a0-4fe0-bd63-298bd1f7e475",
   "metadata": {},
   "outputs": [],
   "source": []
  },
  {
   "cell_type": "raw",
   "id": "ba00a83e-9eb2-483c-9c85-fc96957adddb",
   "metadata": {},
   "source": [
    "EJERCICIO 4"
   ]
  },
  {
   "cell_type": "code",
   "execution_count": 61,
   "id": "c8cc2602-86d7-423e-b096-c65a251091b0",
   "metadata": {},
   "outputs": [],
   "source": [
    "url4 ='https://en.wikipedia.org/wiki/Python' "
   ]
  },
  {
   "cell_type": "code",
   "execution_count": 62,
   "id": "eb6e9ec6-ad8d-4f10-853f-3a0b53c7942a",
   "metadata": {},
   "outputs": [],
   "source": [
    "url4 ='https://en.wikipedia.org/wiki/Python' \n",
    "response_4 = requests.get(url4)\n",
    "sopa_git_4 = BeautifulSoup(response_4.content)"
   ]
  },
  {
   "cell_type": "code",
   "execution_count": 63,
   "id": "64499344-22d4-461b-8ce8-55c30063753d",
   "metadata": {},
   "outputs": [],
   "source": [
    "bloques_4= sopa_git_4.select('div.mw-parser-output')"
   ]
  },
  {
   "cell_type": "code",
   "execution_count": null,
   "id": "976b25cc-c32e-442b-9060-ad8df8a2c9ae",
   "metadata": {},
   "outputs": [],
   "source": []
  },
  {
   "cell_type": "code",
   "execution_count": 8,
   "id": "0d7690bc-3c8c-4485-baa4-2bd56e8e3ec7",
   "metadata": {},
   "outputs": [],
   "source": [
    "bloques_4= sopa_git_4.select('ul li')"
   ]
  },
  {
   "cell_type": "code",
   "execution_count": null,
   "id": "76ed623d-7fc5-4d27-a48c-d5ca2eaa8978",
   "metadata": {},
   "outputs": [],
   "source": []
  },
  {
   "cell_type": "code",
   "execution_count": 27,
   "id": "b89455cc-0b6b-41d4-b257-89133da6560d",
   "metadata": {},
   "outputs": [
    {
     "name": "stdout",
     "output_type": "stream",
     "text": [
      "#Snakes\n",
      "#Computing\n",
      "#People\n",
      "#Roller_coasters\n",
      "#Vehicles\n",
      "#Weaponry\n",
      "#Other_uses\n",
      "#See_also\n",
      "/wiki/Pythonidae\n",
      "/wiki/Python_(genus)\n",
      "/wiki/Python_(mythology)\n",
      "/wiki/Python_(programming_language)\n",
      "/wiki/CMU_Common_Lisp\n",
      "/wiki/PERQ#PERQ_3\n",
      "/wiki/Python_of_Aenus\n",
      "/wiki/Python_(painter)\n",
      "/wiki/Python_of_Byzantium\n",
      "/wiki/Python_of_Catana\n",
      "/wiki/Python_Anghelo\n",
      "/wiki/Python_(Efteling)\n",
      "/wiki/Python_(Busch_Gardens_Tampa_Bay)\n",
      "/wiki/Python_(Coney_Island,_Cincinnati,_Ohio)\n",
      "/wiki/Python_(automobile_maker)\n",
      "/wiki/Python_(Ford_prototype)\n",
      "/wiki/Python_(missile)\n",
      "/wiki/Python_(nuclear_primary)\n",
      "/wiki/Colt_Python\n",
      "/wiki/Python_(codename)\n",
      "/wiki/Python_(film)\n",
      "/wiki/Monty_Python\n",
      "/wiki/Python_(Monty)_Pictures\n",
      "/wiki/Timon_of_Phlius\n",
      "/wiki/Cython\n",
      "/wiki/Pyton\n",
      "/wiki/Pithon\n",
      "/wiki/Category:Disambiguation_pages\n",
      "/wiki/Category:Human_name_disambiguation_pages\n",
      "/wiki/Category:Disambiguation_pages_with_given-name-holder_lists\n",
      "/wiki/Category:Disambiguation_pages_with_short_descriptions\n",
      "/wiki/Category:Short_description_is_different_from_Wikidata\n",
      "/wiki/Category:All_article_disambiguation_pages\n",
      "/wiki/Category:All_disambiguation_pages\n",
      "/wiki/Category:Animal_common_name_disambiguation_pages\n",
      "/wiki/Special:MyTalk\n",
      "/wiki/Special:MyContributions\n",
      "/w/index.php?title=Special:CreateAccount&returnto=Python\n",
      "/w/index.php?title=Special:UserLogin&returnto=Python\n",
      "/wiki/Python\n",
      "/wiki/Talk:Python\n",
      "/wiki/Python\n",
      "/w/index.php?title=Python&action=edit\n",
      "/w/index.php?title=Python&action=history\n",
      "/wiki/Main_Page\n",
      "/wiki/Wikipedia:Contents\n",
      "/wiki/Portal:Current_events\n",
      "/wiki/Special:Random\n",
      "/wiki/Wikipedia:About\n",
      "//en.wikipedia.org/wiki/Wikipedia:Contact_us\n",
      "https://donate.wikimedia.org/wiki/Special:FundraiserRedirector?utm_source=donate&utm_medium=sidebar&utm_campaign=C13_en.wikipedia.org&uselang=en\n",
      "/wiki/Help:Contents\n",
      "/wiki/Help:Introduction\n",
      "/wiki/Wikipedia:Community_portal\n",
      "/wiki/Special:RecentChanges\n",
      "/wiki/Wikipedia:File_Upload_Wizard\n",
      "/wiki/Special:WhatLinksHere/Python\n",
      "/wiki/Special:RecentChangesLinked/Python\n",
      "/wiki/Wikipedia:File_Upload_Wizard\n",
      "/wiki/Special:SpecialPages\n",
      "/w/index.php?title=Python&oldid=1120123765\n",
      "/w/index.php?title=Python&action=info\n",
      "/w/index.php?title=Special:CiteThisPage&page=Python&id=1120123765&wpFormIdentifier=titleform\n",
      "https://www.wikidata.org/wiki/Special:EntityPage/Q747452\n",
      "/w/index.php?title=Special:DownloadAsPdf&page=Python&action=show-download-screen\n",
      "/w/index.php?title=Python&printable=yes\n",
      "https://commons.wikimedia.org/wiki/Category:Python\n",
      "https://af.wikipedia.org/wiki/Python\n",
      "https://als.wikipedia.org/wiki/Python\n",
      "https://ar.wikipedia.org/wiki/%D8%A8%D8%A7%D9%8A%D8%AB%D9%88%D9%86_(%D8%AA%D9%88%D8%B6%D9%8A%D8%AD)\n",
      "https://az.wikipedia.org/wiki/Python\n",
      "https://bn.wikipedia.org/wiki/%E0%A6%AA%E0%A6%BE%E0%A6%87%E0%A6%A5%E0%A6%A8_(%E0%A6%A6%E0%A7%8D%E0%A6%AC%E0%A7%8D%E0%A6%AF%E0%A6%B0%E0%A7%8D%E0%A6%A5%E0%A6%A4%E0%A6%BE_%E0%A6%A8%E0%A6%BF%E0%A6%B0%E0%A6%B8%E0%A6%A8)\n",
      "https://be.wikipedia.org/wiki/Python\n",
      "https://bg.wikipedia.org/wiki/%D0%9F%D0%B8%D1%82%D0%BE%D0%BD_(%D0%BF%D0%BE%D1%8F%D1%81%D0%BD%D0%B5%D0%BD%D0%B8%D0%B5)\n",
      "https://cs.wikipedia.org/wiki/Python_(rozcestn%C3%ADk)\n",
      "https://da.wikipedia.org/wiki/Python\n",
      "https://de.wikipedia.org/wiki/Python\n",
      "https://eo.wikipedia.org/wiki/Pitono_(apartigilo)\n",
      "https://eu.wikipedia.org/wiki/Python_(argipena)\n",
      "https://fa.wikipedia.org/wiki/%D9%BE%D8%A7%DB%8C%D8%AA%D9%88%D9%86\n",
      "https://fr.wikipedia.org/wiki/Python\n",
      "https://ko.wikipedia.org/wiki/%ED%8C%8C%EC%9D%B4%EC%84%A0\n",
      "https://hr.wikipedia.org/wiki/Python_(razdvojba)\n",
      "https://io.wikipedia.org/wiki/Pitono\n",
      "https://id.wikipedia.org/wiki/Python\n",
      "https://ia.wikipedia.org/wiki/Python_(disambiguation)\n",
      "https://is.wikipedia.org/wiki/Python_(a%C3%B0greining)\n",
      "https://it.wikipedia.org/wiki/Python_(disambigua)\n",
      "https://he.wikipedia.org/wiki/%D7%A4%D7%99%D7%AA%D7%95%D7%9F\n",
      "https://ka.wikipedia.org/wiki/%E1%83%9E%E1%83%98%E1%83%97%E1%83%9D%E1%83%9C%E1%83%98_(%E1%83%9B%E1%83%A0%E1%83%90%E1%83%95%E1%83%90%E1%83%9A%E1%83%9B%E1%83%9C%E1%83%98%E1%83%A8%E1%83%95%E1%83%9C%E1%83%94%E1%83%9A%E1%83%9D%E1%83%95%E1%83%90%E1%83%9C%E1%83%98)\n",
      "https://kg.wikipedia.org/wiki/Mboma_(nyoka)\n",
      "https://la.wikipedia.org/wiki/Python_(discretiva)\n",
      "https://lb.wikipedia.org/wiki/Python\n",
      "https://hu.wikipedia.org/wiki/Python_(egy%C3%A9rtelm%C5%B1s%C3%ADt%C5%91_lap)\n",
      "https://mr.wikipedia.org/wiki/%E0%A4%AA%E0%A4%BE%E0%A4%AF%E0%A4%A5%E0%A5%89%E0%A4%A8_(%E0%A4%86%E0%A4%9C%E0%A5%8D%E0%A4%9E%E0%A4%BE%E0%A4%B5%E0%A4%B2%E0%A5%80_%E0%A4%AD%E0%A4%BE%E0%A4%B7%E0%A4%BE)\n",
      "https://nl.wikipedia.org/wiki/Python\n",
      "https://ja.wikipedia.org/wiki/%E3%83%91%E3%82%A4%E3%82%BD%E3%83%B3\n",
      "https://no.wikipedia.org/wiki/Pyton\n",
      "https://pl.wikipedia.org/wiki/Pyton\n",
      "https://pt.wikipedia.org/wiki/Python_(desambigua%C3%A7%C3%A3o)\n",
      "https://ru.wikipedia.org/wiki/Python_(%D0%B7%D0%BD%D0%B0%D1%87%D0%B5%D0%BD%D0%B8%D1%8F)\n",
      "https://sk.wikipedia.org/wiki/Python\n",
      "https://sr.wikipedia.org/wiki/%D0%9F%D0%B8%D1%82%D0%BE%D0%BD_(%D0%B2%D0%B8%D1%88%D0%B5%D0%B7%D0%BD%D0%B0%D1%87%D0%BD%D0%B0_%D0%BE%D0%B4%D1%80%D0%B5%D0%B4%D0%BD%D0%B8%D1%86%D0%B0)\n",
      "https://sh.wikipedia.org/wiki/Python\n",
      "https://fi.wikipedia.org/wiki/Python\n",
      "https://sv.wikipedia.org/wiki/Pyton\n",
      "https://th.wikipedia.org/wiki/%E0%B9%84%E0%B8%9E%E0%B8%97%E0%B8%AD%E0%B8%99\n",
      "https://tr.wikipedia.org/wiki/Python_(anlam_ayr%C4%B1m%C4%B1)\n",
      "https://uk.wikipedia.org/wiki/%D0%9F%D1%96%D1%84%D0%BE%D0%BD\n",
      "https://ur.wikipedia.org/wiki/%D9%BE%D8%A7%D8%A6%DB%8C%D8%AA%DA%BE%D9%88%D9%86\n",
      "https://vi.wikipedia.org/wiki/Python\n",
      "https://zh.wikipedia.org/wiki/Python_(%E6%B6%88%E6%AD%A7%E4%B9%89)\n",
      "//en.wikipedia.org/wiki/Wikipedia:Text_of_Creative_Commons_Attribution-ShareAlike_3.0_Unported_License\n",
      "//creativecommons.org/licenses/by-sa/3.0/\n",
      "//foundation.wikimedia.org/wiki/Terms_of_Use\n",
      "//foundation.wikimedia.org/wiki/Privacy_policy\n",
      "//www.wikimediafoundation.org/\n",
      "https://foundation.wikimedia.org/wiki/Privacy_policy\n",
      "/wiki/Wikipedia:About\n",
      "/wiki/Wikipedia:General_disclaimer\n",
      "//en.wikipedia.org/wiki/Wikipedia:Contact_us\n",
      "//en.m.wikipedia.org/w/index.php?title=Python&mobileaction=toggle_view_mobile\n",
      "https://developer.wikimedia.org\n",
      "https://stats.wikimedia.org/#/en.wikipedia.org\n",
      "https://foundation.wikimedia.org/wiki/Cookie_statement\n",
      "https://wikimediafoundation.org/\n",
      "https://www.mediawiki.org/\n"
     ]
    }
   ],
   "source": [
    "for link in bloques_5:\n",
    "    print(link['href'])"
   ]
  },
  {
   "cell_type": "code",
   "execution_count": 77,
   "id": "07fe13e5-251c-4ffc-907e-c8bdda036735",
   "metadata": {
    "tags": []
   },
   "outputs": [],
   "source": [
    "url4 ='https://en.wikipedia.org/wiki/Python' \n",
    "response_4 = requests.get(url4)\n",
    "sopa_git_4 = BeautifulSoup(response_4.content)\n",
    "bloques_5= sopa_git_4.select('li a')"
   ]
  },
  {
   "cell_type": "code",
   "execution_count": 78,
   "id": "f27ac42a-12c0-4c7a-9a87-30fb15a13883",
   "metadata": {},
   "outputs": [
    {
     "data": {
      "text/plain": [
       "[<a href=\"#Snakes\"><span class=\"tocnumber\">1</span> <span class=\"toctext\">Snakes</span></a>,\n",
       " <a href=\"#Computing\"><span class=\"tocnumber\">2</span> <span class=\"toctext\">Computing</span></a>,\n",
       " <a href=\"#People\"><span class=\"tocnumber\">3</span> <span class=\"toctext\">People</span></a>,\n",
       " <a href=\"#Roller_coasters\"><span class=\"tocnumber\">4</span> <span class=\"toctext\">Roller coasters</span></a>,\n",
       " <a href=\"#Vehicles\"><span class=\"tocnumber\">5</span> <span class=\"toctext\">Vehicles</span></a>]"
      ]
     },
     "execution_count": 78,
     "metadata": {},
     "output_type": "execute_result"
    }
   ],
   "source": [
    "bloques_5[:5]"
   ]
  },
  {
   "cell_type": "code",
   "execution_count": 79,
   "id": "79c4ff14-8b29-4b2e-9681-80cd670458dc",
   "metadata": {},
   "outputs": [
    {
     "data": {
      "text/plain": [
       "'#Snakes'"
      ]
     },
     "execution_count": 79,
     "metadata": {},
     "output_type": "execute_result"
    }
   ],
   "source": [
    "bloques_5[0]['href']"
   ]
  },
  {
   "cell_type": "code",
   "execution_count": 80,
   "id": "540b724d-38f5-4129-973e-64149cae16eb",
   "metadata": {},
   "outputs": [],
   "source": [
    "for link in bloques_5:\n",
    "    links.append(link.get('a[href]'))"
   ]
  },
  {
   "cell_type": "code",
   "execution_count": 81,
   "id": "24df8b30-4d9b-4683-9568-15fdee772e49",
   "metadata": {},
   "outputs": [
    {
     "data": {
      "text/plain": [
       "[None,\n",
       " '#mw-head',\n",
       " '#searchInput',\n",
       " 'https://en.wiktionary.org/wiki/Python',\n",
       " 'https://en.wiktionary.org/wiki/python',\n",
       " '#Snakes',\n",
       " '#Computing',\n",
       " '#People',\n",
       " '#Roller_coasters',\n",
       " '#Vehicles',\n",
       " '#Weaponry',\n",
       " '#Other_uses',\n",
       " '#See_also',\n",
       " '/w/index.php?title=Python&action=edit&section=1',\n",
       " '/wiki/Pythonidae',\n",
       " '/wiki/Python_(genus)',\n",
       " '/wiki/Python_(mythology)',\n",
       " '/w/index.php?title=Python&action=edit&section=2',\n",
       " '/wiki/Python_(programming_language)',\n",
       " '/wiki/CMU_Common_Lisp']"
      ]
     },
     "execution_count": 81,
     "metadata": {},
     "output_type": "execute_result"
    }
   ],
   "source": [
    "links[:20]"
   ]
  },
  {
   "cell_type": "code",
   "execution_count": 53,
   "id": "e4add79e-034b-470c-bc1e-f6a4c60684a9",
   "metadata": {},
   "outputs": [],
   "source": [
    "from bs4 import BeautifulSoup\n",
    "from urllib.request import Request, urlopen\n",
    "import re"
   ]
  },
  {
   "cell_type": "code",
   "execution_count": 72,
   "id": "7ff18a4e-da1c-43c1-8f35-531e742066d3",
   "metadata": {},
   "outputs": [
    {
     "name": "stdout",
     "output_type": "stream",
     "text": [
      "[None, '#mw-head', '#searchInput', 'https://en.wiktionary.org/wiki/Python', 'https://en.wiktionary.org/wiki/python', '#Snakes', '#Computing', '#People', '#Roller_coasters', '#Vehicles', '#Weaponry', '#Other_uses', '#See_also', '/w/index.php?title=Python&action=edit&section=1', '/wiki/Pythonidae', '/wiki/Python_(genus)', '/wiki/Python_(mythology)', '/w/index.php?title=Python&action=edit&section=2', '/wiki/Python_(programming_language)', '/wiki/CMU_Common_Lisp', '/wiki/PERQ#PERQ_3', '/w/index.php?title=Python&action=edit&section=3', '/wiki/Python_of_Aenus', '/wiki/Python_(painter)', '/wiki/Python_of_Byzantium', '/wiki/Python_of_Catana', '/wiki/Python_Anghelo', '/w/index.php?title=Python&action=edit&section=4', '/wiki/Python_(Efteling)', '/wiki/Python_(Busch_Gardens_Tampa_Bay)', '/wiki/Python_(Coney_Island,_Cincinnati,_Ohio)', '/w/index.php?title=Python&action=edit&section=5', '/wiki/Python_(automobile_maker)', '/wiki/Python_(Ford_prototype)', '/w/index.php?title=Python&action=edit&section=6', '/wiki/Python_(missile)', '/wiki/Python_(nuclear_primary)', '/wiki/Colt_Python', '/w/index.php?title=Python&action=edit&section=7', '/wiki/Python_(codename)', '/wiki/Python_(film)', '/wiki/Monty_Python', '/wiki/Python_(Monty)_Pictures', '/wiki/Timon_of_Phlius', '/w/index.php?title=Python&action=edit&section=8', '/wiki/Cython', '/wiki/Pyton', '/wiki/Pithon', '/wiki/File:Disambig_gray.svg', '/wiki/Help:Disambiguation', 'https://en.wikipedia.org/w/index.php?title=Special:WhatLinksHere/Python&namespace=0', 'https://en.wikipedia.org/w/index.php?title=Python&oldid=1120123765', '/wiki/Help:Category', '/wiki/Category:Disambiguation_pages', '/wiki/Category:Human_name_disambiguation_pages', '/wiki/Category:Disambiguation_pages_with_given-name-holder_lists', '/wiki/Category:Disambiguation_pages_with_short_descriptions', '/wiki/Category:Short_description_is_different_from_Wikidata', '/wiki/Category:All_article_disambiguation_pages', '/wiki/Category:All_disambiguation_pages', '/wiki/Category:Animal_common_name_disambiguation_pages', '/wiki/Special:MyTalk', '/wiki/Special:MyContributions', '/w/index.php?title=Special:CreateAccount&returnto=Python', '/w/index.php?title=Special:UserLogin&returnto=Python', '/wiki/Python', '/wiki/Talk:Python', '/wiki/Python', '/w/index.php?title=Python&action=edit', '/w/index.php?title=Python&action=history', '/wiki/Main_Page', '/wiki/Main_Page', '/wiki/Wikipedia:Contents', '/wiki/Portal:Current_events', '/wiki/Special:Random', '/wiki/Wikipedia:About', '//en.wikipedia.org/wiki/Wikipedia:Contact_us', 'https://donate.wikimedia.org/wiki/Special:FundraiserRedirector?utm_source=donate&utm_medium=sidebar&utm_campaign=C13_en.wikipedia.org&uselang=en', '/wiki/Help:Contents', '/wiki/Help:Introduction', '/wiki/Wikipedia:Community_portal', '/wiki/Special:RecentChanges', '/wiki/Wikipedia:File_Upload_Wizard', '/wiki/Special:WhatLinksHere/Python', '/wiki/Special:RecentChangesLinked/Python', '/wiki/Wikipedia:File_Upload_Wizard', '/wiki/Special:SpecialPages', '/w/index.php?title=Python&oldid=1120123765', '/w/index.php?title=Python&action=info', '/w/index.php?title=Special:CiteThisPage&page=Python&id=1120123765&wpFormIdentifier=titleform', 'https://www.wikidata.org/wiki/Special:EntityPage/Q747452', '/w/index.php?title=Special:DownloadAsPdf&page=Python&action=show-download-screen', '/w/index.php?title=Python&printable=yes', 'https://commons.wikimedia.org/wiki/Category:Python', 'https://af.wikipedia.org/wiki/Python', 'https://als.wikipedia.org/wiki/Python', 'https://ar.wikipedia.org/wiki/%D8%A8%D8%A7%D9%8A%D8%AB%D9%88%D9%86_(%D8%AA%D9%88%D8%B6%D9%8A%D8%AD)', 'https://az.wikipedia.org/wiki/Python', 'https://bn.wikipedia.org/wiki/%E0%A6%AA%E0%A6%BE%E0%A6%87%E0%A6%A5%E0%A6%A8_(%E0%A6%A6%E0%A7%8D%E0%A6%AC%E0%A7%8D%E0%A6%AF%E0%A6%B0%E0%A7%8D%E0%A6%A5%E0%A6%A4%E0%A6%BE_%E0%A6%A8%E0%A6%BF%E0%A6%B0%E0%A6%B8%E0%A6%A8)', 'https://be.wikipedia.org/wiki/Python', 'https://bg.wikipedia.org/wiki/%D0%9F%D0%B8%D1%82%D0%BE%D0%BD_(%D0%BF%D0%BE%D1%8F%D1%81%D0%BD%D0%B5%D0%BD%D0%B8%D0%B5)', 'https://cs.wikipedia.org/wiki/Python_(rozcestn%C3%ADk)', 'https://da.wikipedia.org/wiki/Python', 'https://de.wikipedia.org/wiki/Python', 'https://eo.wikipedia.org/wiki/Pitono_(apartigilo)', 'https://eu.wikipedia.org/wiki/Python_(argipena)', 'https://fa.wikipedia.org/wiki/%D9%BE%D8%A7%DB%8C%D8%AA%D9%88%D9%86', 'https://fr.wikipedia.org/wiki/Python', 'https://ko.wikipedia.org/wiki/%ED%8C%8C%EC%9D%B4%EC%84%A0', 'https://hr.wikipedia.org/wiki/Python_(razdvojba)', 'https://io.wikipedia.org/wiki/Pitono', 'https://id.wikipedia.org/wiki/Python', 'https://ia.wikipedia.org/wiki/Python_(disambiguation)', 'https://is.wikipedia.org/wiki/Python_(a%C3%B0greining)', 'https://it.wikipedia.org/wiki/Python_(disambigua)', 'https://he.wikipedia.org/wiki/%D7%A4%D7%99%D7%AA%D7%95%D7%9F', 'https://ka.wikipedia.org/wiki/%E1%83%9E%E1%83%98%E1%83%97%E1%83%9D%E1%83%9C%E1%83%98_(%E1%83%9B%E1%83%A0%E1%83%90%E1%83%95%E1%83%90%E1%83%9A%E1%83%9B%E1%83%9C%E1%83%98%E1%83%A8%E1%83%95%E1%83%9C%E1%83%94%E1%83%9A%E1%83%9D%E1%83%95%E1%83%90%E1%83%9C%E1%83%98)', 'https://kg.wikipedia.org/wiki/Mboma_(nyoka)', 'https://la.wikipedia.org/wiki/Python_(discretiva)', 'https://lb.wikipedia.org/wiki/Python', 'https://hu.wikipedia.org/wiki/Python_(egy%C3%A9rtelm%C5%B1s%C3%ADt%C5%91_lap)', 'https://mr.wikipedia.org/wiki/%E0%A4%AA%E0%A4%BE%E0%A4%AF%E0%A4%A5%E0%A5%89%E0%A4%A8_(%E0%A4%86%E0%A4%9C%E0%A5%8D%E0%A4%9E%E0%A4%BE%E0%A4%B5%E0%A4%B2%E0%A5%80_%E0%A4%AD%E0%A4%BE%E0%A4%B7%E0%A4%BE)', 'https://nl.wikipedia.org/wiki/Python', 'https://ja.wikipedia.org/wiki/%E3%83%91%E3%82%A4%E3%82%BD%E3%83%B3', 'https://no.wikipedia.org/wiki/Pyton', 'https://pl.wikipedia.org/wiki/Pyton', 'https://pt.wikipedia.org/wiki/Python_(desambigua%C3%A7%C3%A3o)', 'https://ru.wikipedia.org/wiki/Python_(%D0%B7%D0%BD%D0%B0%D1%87%D0%B5%D0%BD%D0%B8%D1%8F)', 'https://sk.wikipedia.org/wiki/Python', 'https://sr.wikipedia.org/wiki/%D0%9F%D0%B8%D1%82%D0%BE%D0%BD_(%D0%B2%D0%B8%D1%88%D0%B5%D0%B7%D0%BD%D0%B0%D1%87%D0%BD%D0%B0_%D0%BE%D0%B4%D1%80%D0%B5%D0%B4%D0%BD%D0%B8%D1%86%D0%B0)', 'https://sh.wikipedia.org/wiki/Python', 'https://fi.wikipedia.org/wiki/Python', 'https://sv.wikipedia.org/wiki/Pyton', 'https://th.wikipedia.org/wiki/%E0%B9%84%E0%B8%9E%E0%B8%97%E0%B8%AD%E0%B8%99', 'https://tr.wikipedia.org/wiki/Python_(anlam_ayr%C4%B1m%C4%B1)', 'https://uk.wikipedia.org/wiki/%D0%9F%D1%96%D1%84%D0%BE%D0%BD', 'https://ur.wikipedia.org/wiki/%D9%BE%D8%A7%D8%A6%DB%8C%D8%AA%DA%BE%D9%88%D9%86', 'https://vi.wikipedia.org/wiki/Python', 'https://zh.wikipedia.org/wiki/Python_(%E6%B6%88%E6%AD%A7%E4%B9%89)', 'https://www.wikidata.org/wiki/Special:EntityPage/Q747452#sitelinks-wikipedia', '//en.wikipedia.org/wiki/Wikipedia:Text_of_Creative_Commons_Attribution-ShareAlike_3.0_Unported_License', '//creativecommons.org/licenses/by-sa/3.0/', '//foundation.wikimedia.org/wiki/Terms_of_Use', '//foundation.wikimedia.org/wiki/Privacy_policy', '//www.wikimediafoundation.org/', 'https://foundation.wikimedia.org/wiki/Privacy_policy', '/wiki/Wikipedia:About', '/wiki/Wikipedia:General_disclaimer', '//en.wikipedia.org/wiki/Wikipedia:Contact_us', '//en.m.wikipedia.org/w/index.php?title=Python&mobileaction=toggle_view_mobile', 'https://developer.wikimedia.org', 'https://stats.wikimedia.org/#/en.wikipedia.org', 'https://foundation.wikimedia.org/wiki/Cookie_statement', 'https://wikimediafoundation.org/', 'https://www.mediawiki.org/']\n"
     ]
    }
   ],
   "source": [
    "req = Request('https://en.wikipedia.org/wiki/Python')\n",
    "html_page = urlopen(req)\n",
    "soup = BeautifulSoup(html_page, \"lxml\")\n",
    "links = []\n",
    "for link in soup.findAll('a'):\n",
    "    links.append(link.get('href'))\n",
    "print(links)\n"
   ]
  },
  {
   "cell_type": "code",
   "execution_count": null,
   "id": "58d43b6c-067f-4c48-bdde-b916e14df6a6",
   "metadata": {},
   "outputs": [],
   "source": [
    "links = []\n",
    "for link in soup.findAll('a'):\n",
    "    links.append(link.get('href'))"
   ]
  },
  {
   "cell_type": "code",
   "execution_count": 88,
   "id": "bd139a46-5ed8-4058-b7f2-dfbc67ea323d",
   "metadata": {},
   "outputs": [],
   "source": [
    "bloques_5=[]"
   ]
  },
  {
   "cell_type": "code",
   "execution_count": null,
   "id": "2220a192-6f24-4f39-91c9-84b4d2b0a68e",
   "metadata": {},
   "outputs": [],
   "source": [
    "<div class=\"uscitemlist\">"
   ]
  },
  {
   "cell_type": "code",
   "execution_count": 114,
   "id": "bf99e43f-73c9-43f8-b437-34e6533bc30c",
   "metadata": {},
   "outputs": [],
   "source": [
    "url5 ='http://uscode.house.gov/download/download.shtml' \n",
    "response_4 = requests.get(url4)\n",
    "sopa_git_4 = BeautifulSoup(response_4.content)\n",
    "bloques_5= sopa_git_4.select('div.uscitemlist')"
   ]
  },
  {
   "cell_type": "code",
   "execution_count": 116,
   "id": "6294aace-b225-4dba-8157-90483830bbac",
   "metadata": {
    "tags": []
   },
   "outputs": [
    {
     "data": {
      "text/plain": [
       "[]"
      ]
     },
     "execution_count": 116,
     "metadata": {},
     "output_type": "execute_result"
    }
   ],
   "source": [
    "bloques_5"
   ]
  },
  {
   "cell_type": "code",
   "execution_count": 106,
   "id": "e7338b8f-52b8-418f-aada-5f9d8f03cdf2",
   "metadata": {},
   "outputs": [],
   "source": [
    "from bs4 import BeautifulSoup\n",
    "from urllib.request import Request, urlopen\n",
    "import re"
   ]
  },
  {
   "cell_type": "code",
   "execution_count": 109,
   "id": "d03dddb3-e6db-4b5c-8661-fcd1a7efb77b",
   "metadata": {
    "tags": []
   },
   "outputs": [],
   "source": [
    "req = Request('http://uscode.house.gov/download/download.shtml')\n",
    "html_page = urlopen(req)\n",
    "soup_2 = BeautifulSoup(html_page, \"lxml\")\n",
    "bloques_5= soup_2.findAll('div.uscitemlist')"
   ]
  },
  {
   "cell_type": "code",
   "execution_count": 110,
   "id": "0a523bcb-5729-4235-939c-ee24cab69d30",
   "metadata": {},
   "outputs": [
    {
     "data": {
      "text/plain": [
       "[]"
      ]
     },
     "execution_count": 110,
     "metadata": {},
     "output_type": "execute_result"
    }
   ],
   "source": [
    "bloques_5"
   ]
  },
  {
   "cell_type": "code",
   "execution_count": 105,
   "id": "ce353934-ce90-4c54-953b-c05e19beeece",
   "metadata": {},
   "outputs": [],
   "source": [
    "bloques_5=[]"
   ]
  },
  {
   "cell_type": "code",
   "execution_count": null,
   "id": "74d66b12-7a97-4b94-9355-14a2a26b9e17",
   "metadata": {},
   "outputs": [],
   "source": []
  },
  {
   "cell_type": "code",
   "execution_count": null,
   "id": "f2a0f4ae-872b-4325-975f-b628d9ca0489",
   "metadata": {},
   "outputs": [],
   "source": []
  },
  {
   "cell_type": "code",
   "execution_count": null,
   "id": "161c61a5-d038-4e3b-81c8-bc98b40054a8",
   "metadata": {},
   "outputs": [],
   "source": []
  }
 ],
 "metadata": {
  "kernelspec": {
   "display_name": "Python 3 (ipykernel)",
   "language": "python",
   "name": "python3"
  },
  "language_info": {
   "codemirror_mode": {
    "name": "ipython",
    "version": 3
   },
   "file_extension": ".py",
   "mimetype": "text/x-python",
   "name": "python",
   "nbconvert_exporter": "python",
   "pygments_lexer": "ipython3",
   "version": "3.9.13"
  }
 },
 "nbformat": 4,
 "nbformat_minor": 5
}
